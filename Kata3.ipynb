{
 "cells": [
  {
   "cell_type": "markdown",
   "metadata": {},
   "source": [
    "## Ejercicio - Escribir declaraciones if, else y elif"
   ]
  },
  {
   "cell_type": "code",
   "execution_count": 1,
   "metadata": {},
   "outputs": [
    {
     "name": "stdout",
     "output_type": "stream",
     "text": [
      "PRECAUCIÓN\n"
     ]
    }
   ],
   "source": [
    "velocidad_asteroide = 49 #km/h\n",
    "if velocidad_asteroide > 25:\n",
    "    print(\"PRECAUCIÓN\")\n",
    "else:\n",
    "    print(\"Sin peligro\")"
   ]
  },
  {
   "cell_type": "code",
   "execution_count": 2,
   "metadata": {},
   "outputs": [
    {
     "name": "stdout",
     "output_type": "stream",
     "text": [
      "No hay luces en el cielo\n"
     ]
    }
   ],
   "source": [
    "vel_asteroide = 19 #km/h\n",
    "if vel_asteroide > 20:\n",
    "    print(\"Atención, hay una luz en el cielo\")\n",
    "elif vel_asteroide == 20:\n",
    "    print(\"Atención, es posible que haya una luz en el cielo\")\n",
    "else:\n",
    "    print(\"No hay luces en el cielo\")"
   ]
  },
  {
   "cell_type": "code",
   "execution_count": 5,
   "metadata": {},
   "outputs": [
    {
     "name": "stdout",
     "output_type": "stream",
     "text": [
      "PRECAUCIÓN, un asteroide peligroso se acerca\n"
     ]
    }
   ],
   "source": [
    "asteroide = 20 #km/h\n",
    "tamano = 200 #metros\n",
    "if tamano > 25 or asteroide > 25:\n",
    "    print(\"PRECAUCIÓN, un asteroide peligroso se acerca\")\n",
    "elif tamano <= 25 and asteroide >= 20:\n",
    "    print(\"Hay una luz en el cielo pero no es peligrosa\")\n",
    "else:\n",
    "    print(\"Sin peligro\")\n"
   ]
  },
  {
   "cell_type": "code",
   "execution_count": null,
   "metadata": {},
   "outputs": [],
   "source": []
  }
 ],
 "metadata": {
  "interpreter": {
   "hash": "7610b1eb875ff9da298f534c941ed6cbbd0eae433cfd60e8b8596c72cc9112a9"
  },
  "kernelspec": {
   "display_name": "Python 3.9.4 64-bit",
   "language": "python",
   "name": "python3"
  },
  "language_info": {
   "codemirror_mode": {
    "name": "ipython",
    "version": 3
   },
   "file_extension": ".py",
   "mimetype": "text/x-python",
   "name": "python",
   "nbconvert_exporter": "python",
   "pygments_lexer": "ipython3",
   "version": "3.9.4"
  },
  "orig_nbformat": 4
 },
 "nbformat": 4,
 "nbformat_minor": 2
}
