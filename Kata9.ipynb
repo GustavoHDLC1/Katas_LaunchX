{
 "cells": [
  {
   "cell_type": "markdown",
   "metadata": {},
   "source": [
    "## Ejercicio: Uso de funciones en Python"
   ]
  },
  {
   "cell_type": "code",
   "execution_count": 2,
   "metadata": {},
   "outputs": [],
   "source": [
    "def reporte_comb(t1, t2, t3):\n",
    "    total = (t1 + t2 + t3) / 3\n",
    "    return f\"\"\"Reporte:\n",
    "    Promedio: {total}%\n",
    "    Tanque 1: {t1}%\n",
    "    Tanque 2: {t2}%\n",
    "    Tanque 3: {t3}% \n",
    "    \"\"\""
   ]
  },
  {
   "cell_type": "code",
   "execution_count": 4,
   "metadata": {},
   "outputs": [
    {
     "name": "stdout",
     "output_type": "stream",
     "text": [
      "Reporte:\n",
      "    Promedio: 60.0%\n",
      "    Tanque 1: 40%\n",
      "    Tanque 2: 60%\n",
      "    Tanque 3: 80% \n",
      "    \n"
     ]
    }
   ],
   "source": [
    "print(reporte_comb(40,60,80))"
   ]
  },
  {
   "cell_type": "code",
   "execution_count": 5,
   "metadata": {},
   "outputs": [],
   "source": [
    "def promedio_comb(t1,t2,t3):\n",
    "    return (t1 + t2 + t3) / 3"
   ]
  },
  {
   "cell_type": "code",
   "execution_count": 6,
   "metadata": {},
   "outputs": [],
   "source": [
    "def new_reporte_comb(t1, t2, t3):\n",
    "    total = promedio_comb(t1,t2,t3)\n",
    "    return f\"\"\"Reporte:\n",
    "    Promedio: {total}%\n",
    "    Tanque 1: {t1}%\n",
    "    Tanque 2: {t2}%\n",
    "    Tanque 3: {t3}% \n",
    "    \"\"\""
   ]
  },
  {
   "cell_type": "code",
   "execution_count": 7,
   "metadata": {},
   "outputs": [
    {
     "name": "stdout",
     "output_type": "stream",
     "text": [
      "Reporte:\n",
      "    Promedio: 66.66666666666667%\n",
      "    Tanque 1: 25%\n",
      "    Tanque 2: 75%\n",
      "    Tanque 3: 100% \n",
      "    \n"
     ]
    }
   ],
   "source": [
    "print(new_reporte_comb(25,75,100))"
   ]
  },
  {
   "cell_type": "markdown",
   "metadata": {},
   "source": [
    "## Ejercicio 2: Trabajo con argumentos de palabra clave"
   ]
  },
  {
   "cell_type": "code",
   "execution_count": 9,
   "metadata": {},
   "outputs": [
    {
     "name": "stdout",
     "output_type": "stream",
     "text": [
      "\n",
      "    Destino: Moon\n",
      "    Tiempo: 65 minutos\n",
      "    Combustible: 500000 galones\n",
      "    \n"
     ]
    }
   ],
   "source": [
    "def reporte_mision(pre, tiempo, destino, t1, t2):\n",
    "    return f\"\"\"\n",
    "    Destino: {destino}\n",
    "    Tiempo: {pre + tiempo} minutos\n",
    "    Combustible: {t1 + t2} galones\n",
    "    \"\"\"\n",
    "\n",
    "print(reporte_mision(14, 51, \"Moon\", 200000, 300000))"
   ]
  },
  {
   "cell_type": "code",
   "execution_count": 10,
   "metadata": {},
   "outputs": [
    {
     "name": "stdout",
     "output_type": "stream",
     "text": [
      "\n",
      "    Destino: Moon\n",
      "    Tiempo: 76 minutos\n",
      "    Combustible: 500000\n",
      "    \n"
     ]
    }
   ],
   "source": [
    "def new_reporte_mision(destino, *minutos, **reservas):\n",
    "    return f\"\"\"\n",
    "    Destino: {destino}\n",
    "    Tiempo: {sum(minutos)} minutos\n",
    "    Combustible: {sum(reservas.values())}\n",
    "    \"\"\"\n",
    "\n",
    "print(new_reporte_mision(\"Moon\", 10, 15, 51, main=300000, external=200000))"
   ]
  },
  {
   "cell_type": "code",
   "execution_count": 14,
   "metadata": {},
   "outputs": [
    {
     "name": "stdout",
     "output_type": "stream",
     "text": [
      "\n",
      "    Destino: Moon\n",
      "    Tiempo: 74 minutos\n",
      "    Combustible: 500000\n",
      "    main tanque --> 300000 galones \n",
      "external tanque --> 200000 galones \n",
      "\n"
     ]
    }
   ],
   "source": [
    "def mission_report(destino, *minutos, **reservas):\n",
    "    reporte = f\"\"\"\n",
    "    Destino: {destino}\n",
    "    Tiempo: {sum(minutos)} minutos\n",
    "    Combustible: {sum(reservas.values())}\n",
    "    \"\"\"\n",
    "    for nombre, galones in reservas.items():\n",
    "        reporte += f\"{nombre} tanque --> {galones} galones \\n\"\n",
    "    return reporte\n",
    "\n",
    "print(mission_report(\"Moon\", 8, 11, 55, main=300000, external=200000))"
   ]
  },
  {
   "cell_type": "code",
   "execution_count": null,
   "metadata": {},
   "outputs": [],
   "source": []
  }
 ],
 "metadata": {
  "interpreter": {
   "hash": "7610b1eb875ff9da298f534c941ed6cbbd0eae433cfd60e8b8596c72cc9112a9"
  },
  "kernelspec": {
   "display_name": "Python 3.9.4 64-bit",
   "language": "python",
   "name": "python3"
  },
  "language_info": {
   "codemirror_mode": {
    "name": "ipython",
    "version": 3
   },
   "file_extension": ".py",
   "mimetype": "text/x-python",
   "name": "python",
   "nbconvert_exporter": "python",
   "pygments_lexer": "ipython3",
   "version": "3.9.4"
  },
  "orig_nbformat": 4
 },
 "nbformat": 4,
 "nbformat_minor": 2
}
